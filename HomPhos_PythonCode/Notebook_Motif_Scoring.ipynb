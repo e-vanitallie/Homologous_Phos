{
 "cells": [
  {
   "cell_type": "code",
   "execution_count": 13,
   "metadata": {},
   "outputs": [],
   "source": [
    "import pandas as pd\n",
    "import numpy as np\n",
    "import seaborn as sns\n",
    "import matplotlib.pyplot as plt\n",
    "\n",
    "from Bio.Align import substitution_matrices\n",
    "matrix_b90 = substitution_matrices.load(\"BLOSUM90\")\n",
    "\n",
    "import array\n",
    "import os \n",
    "import datetime\n",
    "import re\n",
    "import math"
   ]
  },
  {
   "cell_type": "code",
   "execution_count": 25,
   "metadata": {},
   "outputs": [],
   "source": [
    "exp_str = \"DevSeries22\"\n",
    "date_match_out = \"220214\""
   ]
  },
  {
   "cell_type": "code",
   "execution_count": 26,
   "metadata": {},
   "outputs": [],
   "source": [
    "today = datetime.date.today()\n",
    "\n",
    "input_folder = exp_str + \"_Phos_Matching_Output\" \n",
    "input_file = date_match_out + exp_str + \"_HumanMatch.csv\"\n",
    "\n",
    "out_plot1_file = today.strftime(\"%y%m%d\") + \"_\" + exp_str + \"_Alignment_Results_Histogram.eps\"\n",
    "out_plot1_path = os.path.join(input_folder, out_plot1_file)\n",
    "\n",
    "out_plot2_file = today.strftime(\"%y%m%d\") + \"_\" + exp_str + \"_MotifScoreHistogram_wFDR.eps\"\n",
    "out_plot2_path = os.path.join(input_folder, out_plot2_file)\n",
    "\n",
    "out_file = today.strftime(\"%y%m%d\") + \"_\" + exp_str + \"_Matched_Filtered0p75.csv\"\n",
    "out_file_path = os.path.join(input_folder, out_file)"
   ]
  },
  {
   "cell_type": "code",
   "execution_count": 27,
   "metadata": {},
   "outputs": [
    {
     "data": {
      "text/html": [
       "<div>\n",
       "<style scoped>\n",
       "    .dataframe tbody tr th:only-of-type {\n",
       "        vertical-align: middle;\n",
       "    }\n",
       "\n",
       "    .dataframe tbody tr th {\n",
       "        vertical-align: top;\n",
       "    }\n",
       "\n",
       "    .dataframe thead th {\n",
       "        text-align: right;\n",
       "    }\n",
       "</style>\n",
       "<table border=\"1\" class=\"dataframe\">\n",
       "  <thead>\n",
       "    <tr style=\"text-align: right;\">\n",
       "      <th></th>\n",
       "      <th>Xenopus_Reference</th>\n",
       "      <th>Human_Reference</th>\n",
       "      <th>Match_Code</th>\n",
       "      <th>Xen_Residue</th>\n",
       "      <th>Human_Residue</th>\n",
       "      <th>Xen_Motif</th>\n",
       "      <th>Human_Motif</th>\n",
       "    </tr>\n",
       "  </thead>\n",
       "  <tbody>\n",
       "    <tr>\n",
       "      <th>0</th>\n",
       "      <td>gnl|gene10006|XL-9_2-gene10006|rna29084|</td>\n",
       "      <td>GN:SUPT16H|SPT16|human|Q9Y5B9</td>\n",
       "      <td>0</td>\n",
       "      <td>1006</td>\n",
       "      <td>1017</td>\n",
       "      <td>ADRESLYEEVEEQ</td>\n",
       "      <td>EQSRSMSRKRKAS</td>\n",
       "    </tr>\n",
       "    <tr>\n",
       "      <th>1</th>\n",
       "      <td>gnl|gene10006|XL-9_2-gene10006|rna29084|</td>\n",
       "      <td>GN:SUPT16H|SPT16|human|Q9Y5B9</td>\n",
       "      <td>3</td>\n",
       "      <td>1008</td>\n",
       "      <td>1019</td>\n",
       "      <td>RKADRESLYEEVE</td>\n",
       "      <td>SRSMSRKRKASVH</td>\n",
       "    </tr>\n",
       "    <tr>\n",
       "      <th>2</th>\n",
       "      <td>gnl|gene10013|XL-9_2-gene10013|rna29105|</td>\n",
       "      <td>NaN</td>\n",
       "      <td>-2</td>\n",
       "      <td>878</td>\n",
       "      <td>NaN</td>\n",
       "      <td>NaN</td>\n",
       "      <td>NaN</td>\n",
       "    </tr>\n",
       "    <tr>\n",
       "      <th>3</th>\n",
       "      <td>gnl|gene10015|XL-9_2-gene10015|rna29109|</td>\n",
       "      <td>GN:ATPIF1|ATPIF1|human|Q9UII2</td>\n",
       "      <td>3</td>\n",
       "      <td>23</td>\n",
       "      <td>26</td>\n",
       "      <td>LMQMRRSSDQLGE</td>\n",
       "      <td>MQARGFGSDQSEN</td>\n",
       "    </tr>\n",
       "    <tr>\n",
       "      <th>4</th>\n",
       "      <td>gnl|gene10017|XL-9_2-gene10017|rna29113|</td>\n",
       "      <td>GN:PTPN1|PTP1B|human|P18031</td>\n",
       "      <td>0</td>\n",
       "      <td>295</td>\n",
       "      <td>295</td>\n",
       "      <td>DPPPEHTPPPPRP</td>\n",
       "      <td>DQWKELSHEDLEP</td>\n",
       "    </tr>\n",
       "  </tbody>\n",
       "</table>\n",
       "</div>"
      ],
      "text/plain": [
       "                          Xenopus_Reference                Human_Reference  \\\n",
       "0  gnl|gene10006|XL-9_2-gene10006|rna29084|  GN:SUPT16H|SPT16|human|Q9Y5B9   \n",
       "1  gnl|gene10006|XL-9_2-gene10006|rna29084|  GN:SUPT16H|SPT16|human|Q9Y5B9   \n",
       "2  gnl|gene10013|XL-9_2-gene10013|rna29105|                            NaN   \n",
       "3  gnl|gene10015|XL-9_2-gene10015|rna29109|  GN:ATPIF1|ATPIF1|human|Q9UII2   \n",
       "4  gnl|gene10017|XL-9_2-gene10017|rna29113|    GN:PTPN1|PTP1B|human|P18031   \n",
       "\n",
       "   Match_Code  Xen_Residue Human_Residue      Xen_Motif    Human_Motif  \n",
       "0           0         1006          1017  ADRESLYEEVEEQ  EQSRSMSRKRKAS  \n",
       "1           3         1008          1019  RKADRESLYEEVE  SRSMSRKRKASVH  \n",
       "2          -2          878           NaN            NaN            NaN  \n",
       "3           3           23            26  LMQMRRSSDQLGE  MQARGFGSDQSEN  \n",
       "4           0          295           295  DPPPEHTPPPPRP  DQWKELSHEDLEP  "
      ]
     },
     "execution_count": 27,
     "metadata": {},
     "output_type": "execute_result"
    }
   ],
   "source": [
    "matched_motifs = pd.read_csv(os.path.join(input_folder, input_file),dtype={\"Human_Residue\":str})\n",
    "matched_motifs.head()"
   ]
  },
  {
   "cell_type": "code",
   "execution_count": 28,
   "metadata": {},
   "outputs": [
    {
     "name": "stdout",
     "output_type": "stream",
     "text": [
      "[13.]\n",
      "[13.]\n"
     ]
    }
   ],
   "source": [
    "mots_notnan = matched_motifs[matched_motifs[\"Match_Code\"] > -1][\"Human_Motif\"]\n",
    "arr_notnan = np.array(mots_notnan)\n",
    "mots_len = np.zeros((len(arr_notnan),1))\n",
    "for i in range(len(mots_len)): mots_len[i] = [len(arr_notnan[i])]\n",
    "for i in range(len(mots_len)): \n",
    "    if (mots_len[i]>13): print(arr_notnan[i])\n",
    "print(max(mots_len))\n",
    "print(min(mots_len))"
   ]
  },
  {
   "cell_type": "code",
   "execution_count": 29,
   "metadata": {},
   "outputs": [],
   "source": [
    "num_match = sum(matched_motifs['Match_Code']==0)\n",
    "num_match_swap = sum(matched_motifs['Match_Code']==1)\n",
    "num_match_nopres = sum(matched_motifs['Match_Code']==3)\n",
    "num_match_gap = sum(matched_motifs['Match_Code']==-1)\n",
    "num_match_noalign = sum(matched_motifs['Match_Code']==-2)\n",
    "num_match_nohuman = sum(matched_motifs['Match_Code']==-3)\n",
    "total_num = len(matched_motifs)\n",
    "\n",
    "match_results_count = [num_match_nohuman, num_match_noalign, num_match_gap, num_match_nopres, num_match_swap, num_match]\n",
    "match_results_frac = [match_results_count[i]/total_num for i in range(len(match_results_count))]\n"
   ]
  },
  {
   "cell_type": "code",
   "execution_count": 30,
   "metadata": {},
   "outputs": [
    {
     "data": {
      "image/png": "[encoded data removed]",
      "text/plain": [
       "<Figure size 432x288 with 1 Axes>"
      ]
     },
     "metadata": {
      "needs_background": "light"
     },
     "output_type": "display_data"
    }
   ],
   "source": [
    "fig, ax = plt.subplots()\n",
    "ax.bar([i for i in range(len(match_results_frac))], match_results_frac)\n",
    "ax.set_xticks([i for i in range(len(match_results_frac))])\n",
    "ax.set_yticks([i/10 for i in range(6)])\n",
    "ax.set_xticklabels([\"No \\n Reference\",\"No \\n Residue\",\"Gap\", \"Not \\n Phosphorylatable\", \"S/T Swap\",\"Match\"])\n",
    "ax.set_ylabel(\"Fraction Total Residues\")\n",
    "ax.set_title(\"Human Alignment Results for \\n {} Phosphorylated Xenopus Residues\".format(total_num))\n",
    "plt.show()\n",
    "fig.savefig(out_plot1_path, bbox_inches='tight')\n"
   ]
  },
  {
   "cell_type": "code",
   "execution_count": 31,
   "metadata": {},
   "outputs": [
    {
     "name": "stdout",
     "output_type": "stream",
     "text": [
      "[640 residues are on a reference that does not have a human match]\n",
      "9558 residues align to the same phosphorylatable residue\n",
      "279 residues align to an S/T swap\n",
      "4468 residues align to a non-phosphorylatable residue\n",
      "584 residues align to a gap on a human reference.\n",
      "4208 residues are in a region that does not align to the human reference.\n",
      "47.44 percent of residues on references that have human matches align to a phosphorylatable residues.\n"
     ]
    }
   ],
   "source": [
    "print(\"[{} residues are on a reference that does not have a human match]\".format(num_match_nohuman))\n",
    "print(\"{} residues align to the same phosphorylatable residue\".format(num_match))\n",
    "print(\"{} residues align to an S/T swap\".format(num_match_swap))\n",
    "print(\"{} residues align to a non-phosphorylatable residue\".format(num_match_nopres))\n",
    "print(\"{} residues align to a gap on a human reference.\".format(num_match_gap))\n",
    "print(\"{} residues are in a region that does not align to the human reference.\".format(num_match_noalign))\n",
    "print(\"{} percent of residues on references that have human matches align to a phosphorylatable residues.\"\\\n",
    "     .format(round(((num_match+num_match_swap)/total_num)*100,2)))\n"
   ]
  },
  {
   "cell_type": "code",
   "execution_count": 32,
   "metadata": {},
   "outputs": [],
   "source": [
    "def score_align(xen_in, hs_in, match_x, mismatch_x, matrix_b90):\n",
    "    import numpy as np\n",
    "    \n",
    "    return_info = np.zeros((3,2))\n",
    "    \n",
    "    # ROWS \n",
    "    # the first row is the alignment of Xenopus motif to itself\n",
    "    # the second row is the alignment of the Human motif to itself\n",
    "    # the last row is the alignment of Xenopus against Human \n",
    "    \n",
    "    # COLUMNS \n",
    "    # the first column is the alignment going in the same direction \n",
    "    # the second column is the alignemt going in the opposite direction\n",
    "    \n",
    "    ind_f = (0, 12)\n",
    "    \n",
    "    # assess both the forward and reverse alignments \n",
    "    for i in range(len(ind_f)):\n",
    "        \n",
    "        # if going with aligned or reverse aligned \n",
    "        which_way = ind_f[i]\n",
    "    \n",
    "        #for each position in the alignment except the phospho-residue \n",
    "        for j in [0,1,2,3,4,5,7,8,9,10,11,12]:\n",
    "        \n",
    "            k = abs(j-which_way)\n",
    "            \n",
    "            # have different options to make sure that one of the aligned residues is not an \"x\" because\n",
    "            # we are at the beginning or end of the protein \n",
    "            \n",
    "            # there are no \"x\"s \n",
    "            if (xen_in[j] != \"x\" and xen_in[k] != \"x\" and hs_in[j] != \"x\" and hs_in[k] != \"x\"):\n",
    "                \n",
    "                return_info[2,i] += matrix_b90[xen_in[j]][hs_in[k]]\n",
    "                return_info[0,i] += matrix_b90[xen_in[j]][xen_in[k]]\n",
    "                return_info[1,i] += matrix_b90[hs_in[j]][hs_in[k]]\n",
    "          \n",
    "            # everything is an \"x\"\n",
    "            elif (xen_in[j] == \"x\" and xen_in[k] == \"x\" and hs_in[j] == \"x\" and hs_in[k] == \"x\"):\n",
    "            \n",
    "                return_info[2,i] += match_x\n",
    "                return_info[0,i] += match_x\n",
    "                return_info[1,i] += match_x\n",
    "        \n",
    "            # if both Xenopus positions are \"x,\" but neither human ones are \n",
    "            elif ((xen_in[j] == \"x\" and xen_in[k] == \"x\") and (hs_in[j] != \"x\" and hs_in[k] != \"x\")):\n",
    "\n",
    "                return_info[2,i] += mismatch_x\n",
    "                return_info[0,i] += match_x\n",
    "                return_info[1,i] += matrix_b90[hs_in[j]][hs_in[k]]\n",
    "        \n",
    "            # if both Human positions are \"x,\" but neither xenopus one is \n",
    "            elif ((xen_in[j] != \"x\" and xen_in[k] != \"x\") and (hs_in[j] == \"x\" and hs_in[k] == \"x\")):\n",
    "                \n",
    "                return_info[2,i] += mismatch_x\n",
    "                return_info[0,i] += matrix_b90[xen_in[j]][xen_in[k]]\n",
    "                return_info[1,i] += match_x\n",
    "                \n",
    "            # if one xenopus one is -- j != k\n",
    "            elif (xen_in[j] == \"x\" or xen_in[k] == \"x\") or (hs_in[j] == \"x\" or hs_in[k] == \"x\"):\n",
    "               \n",
    "                if (xen_in[j] == \"x\" or xen_in[k] == \"x\") and (hs_in[j] == \"x\" or hs_in[k] == \"x\"):\n",
    "                    \n",
    "                    return_info[2,i] += mismatch_x\n",
    "                    return_info[0,i] += mismatch_x\n",
    "                    return_info[1,i] += mismatch_x\n",
    "            \n",
    "                elif (xen_in[j] == \"x\" or xen_in[k] == \"x\"):\n",
    "                    \n",
    "                    return_info[2,i] += mismatch_x\n",
    "                    return_info[0,i] += mismatch_x\n",
    "                    return_info[1,i] += matrix_b90[hs_in[j]][hs_in[k]]\n",
    "                    \n",
    "                else: \n",
    "                    return_info[2,i] += mismatch_x\n",
    "                    return_info[0,i] += matrix_b90[xen_in[j]][xen_in[k]]                                     \n",
    "                    return_info[1,i] += mismatch_x                                      \n",
    "                                                         \n",
    "    return return_info\n",
    "\n",
    "matched_motifs_F = matched_motifs[matched_motifs[\"Match_Code\"]>=0]\n",
    "store_score = []\n",
    "\n",
    "# the value to use if both Xenopus and Human positions are \"x\"\n",
    "match_x = (np.diag(matrix_b90)).mean()\n",
    "store_mm_vals = []\n",
    "\n",
    "for i in range(len(matrix_b90)):\n",
    "    for j in range(1,i):\n",
    "        store_mm_vals.append(matrix_b90[i][j])\n",
    "\n",
    "# the value to use if one of the Xenopus or Human positions are \"x\"        \n",
    "mismatch_x = np.mean(store_mm_vals)\n",
    "\n",
    "for i in range(len(matched_motifs_F)):\n",
    "    \n",
    "    xen_m = (matched_motifs_F.iloc[i,5])\n",
    "    hs_m = (matched_motifs_F.iloc[i,6])\n",
    "    \n",
    "    if (\"U\" not in xen_m and \"U\" not in hs_m):\n",
    "    \n",
    "        return_info = score_align(xen_m, hs_m, match_x, mismatch_x, matrix_b90)\n",
    "        f_best = max(return_info[:,0])\n",
    "        f_worst = min(return_info[:,1])\n",
    "        store_score.append(round((return_info[2,0] - f_worst)/(f_best - f_worst),2))\n",
    "    \n",
    "    else:\n",
    "        store_score.append(0)\n",
    "        \n",
    "store_score_pd = pd.DataFrame(store_score)\n",
    "matched_motifs_F = matched_motifs_F.assign(Motif_Score = store_score_pd.values)"
   ]
  },
  {
   "cell_type": "code",
   "execution_count": 33,
   "metadata": {},
   "outputs": [
    {
     "name": "stdout",
     "output_type": "stream",
     "text": [
      "[28.999999999999996, 28.599999999999998, 28.199999999999996, 27.500000000000004, 26.5, 25.1, 23.1, 21.099999999999998, 19.6, 17.8, 16.0, 15.0, 13.600000000000001, 12.2, 11.1, 10.100000000000001, 9.3, 8.0, 7.000000000000001, 5.6000000000000005]\n"
     ]
    }
   ],
   "source": [
    "matches_only = matched_motifs_F[matched_motifs_F[\"Match_Code\"]<3]\n",
    "#print(np.mean(matches_only[\"Motif_Score\"]))\n",
    "\n",
    "[m_counts,bins] = np.histogram(matches_only[\"Motif_Score\"], bins= [i/20 for i in range(21)])\n",
    "match_h = np.histogram(matches_only[\"Motif_Score\"], bins= [i/20 for i in range(21)])\n",
    "\n",
    "mmatches_only = matched_motifs_F[matched_motifs_F[\"Match_Code\"]==3]\n",
    "#np.mean(mmatches_only[\"store_score_pd\"])\n",
    "\n",
    "[mm_counts,bins] = np.histogram(mmatches_only[\"Motif_Score\"], bins= [i/20 for i in range(21)])\n",
    "\n",
    "fraction_m = [round(mm_counts[i]/(m_counts[i]+mm_counts[i]),2) for i in range(len(m_counts))]\n",
    "FDR_atcutoff = [round(sum(mm_counts[i:])/(sum(m_counts[i:])+sum(mm_counts[i:])),3)*100 for i in range(len(m_counts))]\n",
    "\n",
    "print(FDR_atcutoff)"
   ]
  },
  {
   "cell_type": "code",
   "execution_count": 34,
   "metadata": {},
   "outputs": [
    {
     "data": {
      "image/png": "[encoded data removed]",
      "text/plain": [
       "<Figure size 432x288 with 2 Axes>"
      ]
     },
     "metadata": {
      "needs_background": "light"
     },
     "output_type": "display_data"
    },
    {
     "name": "stderr",
     "output_type": "stream",
     "text": [
      "The PostScript backend does not support transparency; partially transparent artists will be rendered opaque.\n",
      "The PostScript backend does not support transparency; partially transparent artists will be rendered opaque.\n",
      "The PostScript backend does not support transparency; partially transparent artists will be rendered opaque.\n",
      "The PostScript backend does not support transparency; partially transparent artists will be rendered opaque.\n"
     ]
    }
   ],
   "source": [
    "# make a plot of the distribution of scores for phosphorylateable matches vs not phosphorylatable\n",
    "# and also include the FDR rate as a line\n",
    "\n",
    "width = 0.025  # the width of the bars\n",
    "fig, ax = plt.subplots()\n",
    "\n",
    "ax.bar(x = bins[:len(bins)-1]-width/2.5, height = m_counts, width = 0.025, label='Matches')\n",
    "ax.bar(x = bins[:len(bins)-1]+width/2.5, height = mm_counts, width = 0.025, label='MisMatches')\n",
    "\n",
    "ax2 = ax.twinx()\n",
    "ax2.plot(bins[:len(bins)-1], FDR_atcutoff, color = \"pink\", label = \"FDR\", linewidth = '4')\n",
    "ax2.plot([bins[15]-2.2*width/2.5 for i in range(25)],[i for i in range(25)], color = \"black\",\\\n",
    "         label = \"Cutoff >= 0.75\")\n",
    "\n",
    "ax2.set_ylabel('False Discovery Rate')\n",
    "ax2.legend(loc = \"upper center\")\n",
    "\n",
    "ax.set_ylabel('Motif Score')\n",
    "ax.set_title('Scores for Matches vs. MisMatches')\n",
    "ax.legend(loc=\"center left\")\n",
    "\n",
    "plt.show()\n",
    "\n",
    "fig.savefig(out_plot2_path, bbox_inches='tight')"
   ]
  },
  {
   "cell_type": "code",
   "execution_count": 35,
   "metadata": {},
   "outputs": [],
   "source": [
    "matched_motifs_keep = \\\n",
    "matched_motifs_F[(matched_motifs_F[\"Match_Code\"] <= 1) & (matched_motifs_F[\"Motif_Score\"] >= 0.75)]\n",
    "matched_motifs_keep.to_csv(out_file_path, index = False)"
   ]
  },
  {
   "cell_type": "code",
   "execution_count": null,
   "metadata": {},
   "outputs": [],
   "source": []
  }
 ],
 "metadata": {
  "kernelspec": {
   "display_name": "Python 3",
   "language": "python",
   "name": "python3"
  },
  "language_info": {
   "codemirror_mode": {
    "name": "ipython",
    "version": 3
   },
   "file_extension": ".py",
   "mimetype": "text/x-python",
   "name": "python",
   "nbconvert_exporter": "python",
   "pygments_lexer": "ipython3",
   "version": "3.8.5"
  }
 },
 "nbformat": 4,
 "nbformat_minor": 4
}
